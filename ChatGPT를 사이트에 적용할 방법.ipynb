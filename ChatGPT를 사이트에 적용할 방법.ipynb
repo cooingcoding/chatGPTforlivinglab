{
 "cells": [
  {
   "cell_type": "markdown",
   "id": "fd94b023",
   "metadata": {},
   "source": [
    "OpenAI GPT API Fine tuning\n",
    "\n",
    "✨왜, 파인튜닝을 해야하는가 : 현재 gpt는 2021년 까지의 데이터만 있기에, 밀양시 리빙랩에 적용하기 위해서 필요함. 해당 답을 알려주기도 하고, 내가 원하는 format으로 답이 나오도록 하기 위해 파인튜닝 과정이 필요함"
   ]
  },
  {
   "cell_type": "markdown",
   "id": "6893c8da",
   "metadata": {},
   "source": [
    "참고 티스토리\n",
    "https://lsjsj92.tistory.com/m/657"
   ]
  },
  {
   "cell_type": "markdown",
   "id": "69469a44",
   "metadata": {},
   "source": [
    "파인튜닝지피티.png"
   ]
  },
  {
   "cell_type": "markdown",
   "id": "3dad4e93",
   "metadata": {},
   "source": [
    "https://lsjsj92.tistory.com/657"
   ]
  },
  {
   "cell_type": "markdown",
   "id": "0f8cbf87",
   "metadata": {},
   "source": [
    "### 참고 깃허브\n",
    "https://github.com/lsjsj92/recommender_system_with_Python"
   ]
  },
  {
   "cell_type": "markdown",
   "id": "d01918ce",
   "metadata": {},
   "source": [
    "- OS : MacOS\n",
    "- Python : Python3.9\n",
    "- 라이브러리\n",
    "    - OpenAI : 0.27.0\n",
    "    - sentence-transformers : 2.2.2 (해당 라이브러리는 windows환경에서도 사용이 가능, Python 3.6이상과 호환이 가능)"
   ]
  },
  {
   "cell_type": "markdown",
   "id": "2ed603d9",
   "metadata": {},
   "source": [
    "데이터 준비(활용 데이터 셋팅) → embedding vector추출 → 코사인 유사도  계산 함수 구현 → chatGPT에 질의한 Prompt 설정 →추천 로직 구현"
   ]
  },
  {
   "cell_type": "markdown",
   "id": "a6f2e4c3",
   "metadata": {},
   "source": [
    "# 데이터 준비 : 시스템에 활용할 데이터 준비"
   ]
  },
  {
   "cell_type": "code",
   "execution_count": null,
   "id": "fff6c604",
   "metadata": {},
   "outputs": [],
   "source": [
    "#참고 사이트에서는 정량적인 csv파일을 들고왔습니다.\n",
    "movies_metadata = pd.read_csv('./~/~.csv', sep=',', dtype=str)\n",
    "print(~.shape)\n",
    "~.head()"
   ]
  },
  {
   "cell_type": "code",
   "execution_count": null,
   "id": "e1e8432e",
   "metadata": {},
   "outputs": [],
   "source": [
    "#참고사이트에서 정량적인 CSV파일을 들고옴\n",
    "#DB에서 들고올 때 str 타입으로 들고옴\n",
    "import pandas as pd\n",
    "import pyodbc # DB에서 들고올 때\n",
    "import csv # csv파일을 읽고 쓰고 들고올기 위해\n",
    "\n",
    "#csv들고 올 때\n",
    "들고올_데이터명 = pd.read_csv('~.csv', sep=',', dtype=str)\n",
    "\n",
    "# DB 연결 설정\n",
    "conn = pyodbc.connect('DRIVER={SQL Server};SERVER=servername;DATABASE=databasename;UID=username;PWD=password')\n",
    "\n",
    "# SQL 쿼리 작성(임의로 열을 적은부분으로, DB에 어떻게 저장되느냐에따라 바뀔 거 같습니다.)\n",
    "sql_query = \"SELECT order_id, customer_id, CONVERT(date, order_date) AS order_date FROM orders\"\n",
    "\n",
    "# 데이터 가져오기\n",
    "df = pd.read_sql(sql_query, conn)\n",
    "\n",
    "# 결과 확인\n",
    "print(df.head())"
   ]
  },
  {
   "cell_type": "markdown",
   "id": "1817d9e3",
   "metadata": {},
   "source": [
    "#  Embedding vector 추출\n",
    "- why? 텍스트의 embedding vector를 구성하여, 사용자가 날리는 질문(query)에 따라 코사인 유사도를 구하기 위해 → 가장 유사한 질문목록(답변)에 대한 정보 설명, 아이템 추천 등에 활용\n",
    "- 구글에서 제공하는 developer//임베딩에 대한 설명\n",
    "https://developers.google.com/machine-learning/crash-course/embeddings/video-lecture?hl=ko"
   ]
  },
  {
   "cell_type": "markdown",
   "id": "6134b5aa",
   "metadata": {},
   "source": [
    "## OpenAI에서 제공하는 openai.embedding활용\n",
    "    - OpenAI embedding을 활용하면, 환경이 통일되어 편리 할 수 있음."
   ]
  },
  {
   "cell_type": "code",
   "execution_count": null,
   "id": "f2d83729",
   "metadata": {},
   "outputs": [],
   "source": [
    "openai_embedding_model = \"text-embedding-ada-002\"\n",
    "\n",
    "def get_embedding(text: str, model: str) -> List[float]:\n",
    "    result = openai.Embedding.create(\n",
    "      model=model,\n",
    "      input=text)\n",
    "    return result[\"data\"][0][\"embedding\"]\n",
    "    \n",
    "movies_metadata['openai_embeddings'] = movies_metadata['feature'].apply(lambda x : get_embedding(x, openai_embedding_model))"
   ]
  },
  {
   "cell_type": "markdown",
   "id": "ae0c52d1",
   "metadata": {},
   "source": [
    "## HuggingFace embedding 활용\n",
    "- 모델의 특징 : 가벼움, 다양한 모델로 변경 가능\n",
    "- HuggingFace엣 제공하는 model들\n",
    "https://huggingface.co/models"
   ]
  },
  {
   "cell_type": "code",
   "execution_count": null,
   "id": "d08311fa",
   "metadata": {},
   "outputs": [],
   "source": [
    "model = SentenceTransformer(\"사용하고 싶은 모델\")\n",
    "#사이트를 보니 SnetenceTransformer\n",
    "movies_metadata['hf_embeddings'] = movies_metadata['feature'].apply(lambda x : model.encode(x))"
   ]
  },
  {
   "cell_type": "markdown",
   "id": "d6a5132f",
   "metadata": {},
   "source": [
    "# 코사인 유사도 구현\n",
    "- huggingface의 sentence_transformer에 있는 utils.pytorch_cos_sim을 활용\n",
    "- 질문(query) → 정보 획득 → model.encode에 데이터 업로드 → 질문(query)가 가지고 있는 embddong 정보 가져오기 → torch.topk를 활용하여 top 개수를 가져옴"
   ]
  },
  {
   "cell_type": "code",
   "execution_count": null,
   "id": "4916000f",
   "metadata": {},
   "outputs": [],
   "source": [
    "import torch\n",
    "from sentence_transformers import util\n",
    "\n",
    "def get_query_sim_top_k(query, model, df, top_k):\n",
    "# 입력된 쿼리를 Sentence Transformers 모델을 사용하여 인코딩\n",
    "    query_encode = model.encode(query)\n",
    "# 데이터프레임(df)에서 문서의 임베딩 벡터를 가져와 쿼리 벡터와의 코사인 유사도를 계산\n",
    "# 이를 위해, PyTorch의 cosine similarity 함수를 사용\n",
    "    cos_scores = util.pytorch_cos_sim(query_encode, df['hf_embeddings'])[0]\n",
    "# 상위 K개의 유사도 점수를 반환합니다.\n",
    "    top_results = torch.topk(cos_scores, k=top_k)\n",
    "    return top_results\n",
    "# top_results를 반환"
   ]
  },
  {
   "cell_type": "markdown",
   "id": "fe900f39",
   "metadata": {},
   "source": [
    "# ChatGPT를 활용한 추천 시스템에 활용한 Prompt 환경 구축\n",
    "\n",
    "- engineering process image\n",
    "    1. 추천을 원하는 것인가\n",
    "    2. 추가 정보를 더 알고 싶은 것인가\n",
    "    3. 상세한 설명을 원하는 것인가"
   ]
  },
  {
   "cell_type": "markdown",
   "id": "8c23b0d9",
   "metadata": {},
   "source": [
    "##  **prompt를 [추천을 원하는 것인가][추가 정보를 더 알고 싶은가][상세한 설명을 원하는 것인가]로 나누는 이유**\n",
    "    - 사용자가 어떤 query를 입력함\n",
    "    - chatgpt는 해당 query에 따라 사용자의 의도를 파악\n",
    "    - 또한, ChatGPT는 사용자 의도에 따라 자연스러운 도움 메세지 생성\n",
    "    - huggingface의 embedding을 기반으로 유사도를 계산해 어떤 콘텐츠를 추천해줄 때 도움 메세지 뒤에 콘텐츠 추천 정보 제공\n",
    "    - 이러한 사용자 이력을 기반으로 상세 정보 설명등에 활용\n",
    "    - chatgpt를 활용한 추천 시스템 주제를 설정하기 위한 engineering 준비"
   ]
  },
  {
   "cell_type": "code",
   "execution_count": null,
   "id": "04e33d85",
   "metadata": {},
   "outputs": [],
   "source": [
    "#prompt를 작성하기 위한 코드\n",
    "def print_msg(msg):\n",
    "    completion = openai.ChatCompletion.create(\n",
    "                    model=\"gpt-3.5-turbo\",\n",
    "                    messages=msg\n",
    "                    )\n",
    "    return completion['choices'][0]['message']['content']"
   ]
  }
 ],
 "metadata": {
  "kernelspec": {
   "display_name": "Python 3 (ipykernel)",
   "language": "python",
   "name": "python3"
  },
  "language_info": {
   "codemirror_mode": {
    "name": "ipython",
    "version": 3
   },
   "file_extension": ".py",
   "mimetype": "text/x-python",
   "name": "python",
   "nbconvert_exporter": "python",
   "pygments_lexer": "ipython3",
   "version": "3.9.13"
  },
  "toc": {
   "base_numbering": 1,
   "nav_menu": {},
   "number_sections": true,
   "sideBar": true,
   "skip_h1_title": false,
   "title_cell": "Table of Contents",
   "title_sidebar": "Contents",
   "toc_cell": false,
   "toc_position": {},
   "toc_section_display": true,
   "toc_window_display": false
  }
 },
 "nbformat": 4,
 "nbformat_minor": 5
}

