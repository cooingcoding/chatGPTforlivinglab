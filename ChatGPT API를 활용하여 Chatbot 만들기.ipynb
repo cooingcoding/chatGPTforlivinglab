{
 "cells": [
  {
   "cell_type": "markdown",
   "id": "29231e89",
   "metadata": {},
   "source": [
    "openAI 대화형은 이전 대화를 함께 넘겨주며 다음 답변을 받음\n",
    "질의를 반복할 수 있는 예제 코드"
   ]
  },
  {
   "cell_type": "code",
   "execution_count": null,
   "id": "6bd09dd2",
   "metadata": {},
   "outputs": [],
   "source": [
    "import openai\n",
    "openai.organization = 'openai사이트에서 받은 organization name입력하기'\n",
    "openai.api_key = 'openai에서 다운받은 api_key입력하기'\n",
    "\n",
    "#a변수 선언 후 대화를 list형으로 누석, 각 요소는 dict형으로 저장\n",
    "#role = 누구의 기록인지\n",
    "#content = 내용\n",
    "# a = 저장할 메시지 변수\n",
    "a = [{'role':'system', 'content':'dataedu has 3 offices.'}] \n",
    "\n",
    "# 이전 대화 내용을 저장할 리스트\n",
    "history_message = [\n",
    "    {\"role\": \"system\", \"content\": \"You are a helpful assistant.\"}]\n",
    "\n",
    "# GPT-3 엔진 선택\n",
    "model_engine = \"gpt-3.5-turbo\"\n",
    "\n",
    "# OpenAI API를 호출하여 대화를 생성하는 함수\n",
    "def generate_chat(question):\n",
    "    # OpenAI API 호출하여 대화 생성\n",
    "    history_message.append({\"role\":\"user\", \"content\":question})\n",
    "    print(history_message)\n",
    "    completions = openai.ChatCompletion.create(\n",
    "        model=\"gpt-3.5-turbo\",\n",
    "        messages=history_message\n",
    "    )\n",
    "    message = completions.choices[0].message.to_dict()\n",
    "    print(message)\n",
    "    answer = message[\"content\"].strip()\n",
    "\n",
    "    # 이전 대화 내용에 새로운 답변 추가\n",
    "    history_message.append(message)\n",
    "    print(history_message)\n",
    "    return answer\n",
    "\n",
    "# 사용자와의 대화 반복\n",
    "while True:\n",
    "    # 사용자의 입력 받기\n",
    "    question = input(\"User: \")\n",
    "\n",
    "    # 대화 종료 조건 확인\n",
    "    if question.lower() in [\"exit\", \"quit\", \"goodbye\"]:\n",
    "        print(\"Bot: Goodbye!\")\n",
    "        break\n",
    "\n",
    "    # OpenAI API 호출하여 답변 생성\n",
    "    answer = generate_chat(question)\n",
    "\n",
    "    # 챗봇의 답변 출력\n",
    "    print(\"Bot:\", answer)"
   ]
  },
  {
   "cell_type": "markdown",
   "id": "589a5ee1",
   "metadata": {},
   "source": [
    "Chatbot 만들기 순서\n",
    "OpenAI에 키 입력 →  주고받을 메세지 선언 및 초기화→ ChatGPT 모델 선택\n",
    "\n",
    "→ 대화함수 만들기→ 메인 함수 만들기\n",
    "\n",
    "# OpenAI 키 입력\n",
    "\n",
    "- openai모듈 설치 : termial에서 ‘pipi install openai’입력 후 설치 진행\n",
    "    \n",
    "    Successfully installed openai 가 뜨면 정상 설치 된것."
   ]
  },
  {
   "cell_type": "code",
   "execution_count": null,
   "id": "ed81a4ea",
   "metadata": {},
   "outputs": [],
   "source": [
    "pip install openai"
   ]
  },
  {
   "cell_type": "markdown",
   "id": "a2547b31",
   "metadata": {},
   "source": [
    "OpenAI에서 받은 키 입력"
   ]
  },
  {
   "cell_type": "code",
   "execution_count": null,
   "id": "d1a52d4c",
   "metadata": {},
   "outputs": [],
   "source": [
    "import openai\n",
    "#OpenAI API 인증 정보 설정\n",
    "openai.organization = \"소속코드\"\n",
    "openai.api_key = \"API-키\" #openai api키로 과금이 되기에 노출에 유의"
   ]
  },
  {
   "cell_type": "markdown",
   "id": "610e29fb",
   "metadata": {},
   "source": [
    "( https://platform.openai.com/account/usage  :  과금 확인 페이지)"
   ]
  },
  {
   "cell_type": "markdown",
   "id": "c3530bb8",
   "metadata": {},
   "source": [
    "# 기억할 이전 메세지 선언 및 초기화\n",
    "\n",
    "- 변수 선언 후 대화를 list형으로 누적, 각 요소는 dict형으로 저장\n",
    "- OpenAI에서 대화를 기록 할 때는 ‘누구의 기록인지(role)’와 내용(content)’은 무엇인지로 기억"
   ]
  },
  {
   "cell_type": "code",
   "execution_count": null,
   "id": "8519ad49",
   "metadata": {},
   "outputs": [],
   "source": [
    "#이전 대화 내용을 저장할 리스트\n",
    "저장할 메세지 변수 = [{'role':'system', 'content':'dataedu has 3 offices.'}]\n",
    "\n",
    "#누구의 대화(Role)인지와 내용은 무엇인지(content)로 기억"
   ]
  },
  {
   "cell_type": "markdown",
   "id": "a894412c",
   "metadata": {},
   "source": [
    " openai 메세지의 role은 system, user,asistant 가 있음"
   ]
  },
  {
   "cell_type": "markdown",
   "id": "70a99e0d",
   "metadata": {},
   "source": [
    "system : 초기의 역할을 지정해줌. 보통 처음에 한번 지정(공식문서 예제에서는 helpful assistant로 지정함)\n",
    "\n",
    "user : 사용자\n",
    "\n",
    "assistant : 챗봇"
   ]
  },
  {
   "cell_type": "markdown",
   "id": "121cb2d9",
   "metadata": {},
   "source": [
    "# chatcpt모델 선택"
   ]
  },
  {
   "cell_type": "code",
   "execution_count": null,
   "id": "c8f3592e",
   "metadata": {},
   "outputs": [],
   "source": [
    "#GPT3.5 엔진 선택 한다면,\n",
    "model_engine = 'get-3.5-turbo'"
   ]
  },
  {
   "cell_type": "markdown",
   "id": "b5772468",
   "metadata": {},
   "source": [
    "# 대화 함수 만들기"
   ]
  },
  {
   "cell_type": "markdown",
   "id": "a7e1d3de",
   "metadata": {},
   "source": [
    "<aside>\n",
    "💡 대화는 Role에 user로 지정\n",
    "\n",
    "</aside>\n",
    "\n",
    "<aside>\n",
    "💡 챗봇(AI)의 대화는 asistant로 지정하여 대화를기록\n",
    "\n",
    "</aside>\n",
    "\n",
    "- 사용자의 대화를 auestion이란 변수로 받고 history_message에 입력\n",
    "- OpenAI에 지금까지 누적된 대화 전체(historty_message)를 넣고, AI의 답변을 completions라는 변수로 받음\n",
    "- AI 답변만들을 골라내는(completions.choices[0].message.to_dict())\n",
    "- 대화를 기록하는 부분을 (history_message.append())에 담음\n",
    "- 함수의 리턴으로는 (return answer) AI가 준 대화 부분만 돌려줌"
   ]
  },
  {
   "cell_type": "code",
   "execution_count": 2,
   "id": "9f6affa6",
   "metadata": {},
   "outputs": [],
   "source": [
    "# OpenAI API를 호출하여 대화를 생성하는 함수\n",
    "def generate_chat(question):\n",
    "    # OpenAI API 호출하여 대화 생성\n",
    "    history_message.append({\"role\":\"user\", \"content\":question})\n",
    "    print(history_message)\n",
    "    completions = openai.ChatCompletion.create(\n",
    "        model=\"gpt-3.5-turbo\",\n",
    "        messages=history_message\n",
    "    )\n",
    "    message = completions.choices[0].message.to_dict() #AI 답변만 골라내는 부분\n",
    "    print(message)\n",
    "    answer = message[\"content\"].strip()\n",
    "\n",
    "    # 이전 대화 내용에 새로운 답변 추가\n",
    "    history_message.append(message)\n",
    "    print(history_message)\n",
    "    return answer #AI 대화부분만 돌려줌"
   ]
  },
  {
   "cell_type": "markdown",
   "id": "a77b35b1",
   "metadata": {},
   "source": [
    "# 메인함수만들기\n",
    "exit, quit,goodbye가 나올 때가지 질문을 받고, AI에 답변을 받고 다시 질문하는 형태"
   ]
  },
  {
   "cell_type": "code",
   "execution_count": null,
   "id": "fb6d6534",
   "metadata": {},
   "outputs": [],
   "source": [
    "# 사용자와의 대화 반복\n",
    "while True:\n",
    "    # 사용자의 입력 받기\n",
    "    question = input(\"User: \")\n",
    "\n",
    "    # 대화 종료 조건 확인\n",
    "    if question.lower() in [\"exit\", \"quit\", \"goodbye\"]:\n",
    "        print(\"Bot: Goodbye!\")\n",
    "        break\n",
    "\n",
    "    # OpenAI API 호출하여 답변 생성\n",
    "    answer = generate_chat(question)\n",
    "\n",
    "    # 챗봇의 답변 출력\n",
    "    print(\"Bot:\", answer)"
   ]
  },
  {
   "cell_type": "code",
   "execution_count": null,
   "id": "df7b3183",
   "metadata": {},
   "outputs": [],
   "source": []
  },
  {
   "cell_type": "markdown",
   "id": "76318234",
   "metadata": {},
   "source": [
    "# 전체코드"
   ]
  },
  {
   "cell_type": "code",
   "execution_count": null,
   "id": "25c1579d",
   "metadata": {},
   "outputs": [],
   "source": [
    "import openai\n",
    "# OpenAI API 인증 정보 설정\n",
    "openai.organization = \"소속코드\"\n",
    "openai.api_key = \"API-키\"\n",
    "#openai.Model.list()\n",
    "\n",
    "# 이전 대화 내용을 저장할 리스트\n",
    "history_message = [\n",
    "    {\"role\": \"system\", \"content\": \"You are a helpful assistant.\"}\n",
    "]\n",
    "# GPT-3 엔진 선택\n",
    "model_engine = \"gpt-3.5-turbo\"\n",
    "\n",
    "# OpenAI API를 호출하여 대화를 생성하는 함수\n",
    "def generate_chat(question):\n",
    "    # OpenAI API 호출하여 대화 생성\n",
    "    history_message.append({\"role\":\"user\", \"content\":question})\n",
    "    print(history_message)\n",
    "    completions = openai.ChatCompletion.create(\n",
    "        model=\"gpt-3.5-turbo\",\n",
    "        messages=history_message\n",
    "    )\n",
    "    message = completions.choices[0].message.to_dict()\n",
    "    print(message)\n",
    "    answer = message[\"content\"].strip()\n",
    "\n",
    "    # 이전 대화 내용에 새로운 답변 추가\n",
    "    history_message.append(message)\n",
    "    print(history_message)\n",
    "    return answer\n",
    "\n",
    "# 사용자와의 대화 반복\n",
    "while True:\n",
    "    # 사용자의 입력 받기\n",
    "    question = input(\"User: \")\n",
    "\n",
    "    # 대화 종료 조건 확인\n",
    "    if question.lower() in [\"exit\", \"quit\", \"goodbye\"]:\n",
    "        print(\"Bot: Goodbye!\")\n",
    "        break\n",
    "\n",
    "    # OpenAI API 호출하여 답변 생성\n",
    "    answer = generate_chat(question)\n",
    "\n",
    "    # 챗봇의 답변 출력\n",
    "    print(\"Bot:\", answer)"
   ]
  }
 ],
 "metadata": {
  "kernelspec": {
   "display_name": "Python 3 (ipykernel)",
   "language": "python",
   "name": "python3"
  },
  "language_info": {
   "codemirror_mode": {
    "name": "ipython",
    "version": 3
   },
   "file_extension": ".py",
   "mimetype": "text/x-python",
   "name": "python",
   "nbconvert_exporter": "python",
   "pygments_lexer": "ipython3",
   "version": "3.9.13"
  },
  "toc": {
   "base_numbering": 1,
   "nav_menu": {},
   "number_sections": true,
   "sideBar": true,
   "skip_h1_title": false,
   "title_cell": "Table of Contents",
   "title_sidebar": "Contents",
   "toc_cell": false,
   "toc_position": {},
   "toc_section_display": true,
   "toc_window_display": false
  }
 },
 "nbformat": 4,
 "nbformat_minor": 5
}
